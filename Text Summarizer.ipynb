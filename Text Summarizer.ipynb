{
 "cells": [
  {
   "cell_type": "code",
   "execution_count": 56,
   "metadata": {},
   "outputs": [],
   "source": [
    "import numpy as np\n",
    "import pandas as pd\n",
    "import nltk\n",
    "#nltk.download('punkt') # one time execution\n",
    "import re\n",
    "import glob\n",
    "from sklearn.metrics.pairwise import cosine_similarity\n",
    "import networkx as nx\n",
    "import codecs"
   ]
  },
  {
   "cell_type": "code",
   "execution_count": 75,
   "metadata": {},
   "outputs": [],
   "source": [
    "path = './*.txt' \n",
    "files = glob.glob(path)\n",
    "# iterate over the list getting each file \n",
    "redundant_sentences = ['figure', 'Figure', 'Citigroup', 'Source', 'source']\n",
    "articles_list = []\n",
    "for fle in files:\n",
    "    with codecs.open(fle, \"r\",encoding='utf-8', errors='ignore') as f:\n",
    "    #with open(fle, 'rb') as f:\n",
    "        article_content = ''\n",
    "        for line in f:\n",
    "            line = line.replace('\\r', '')\n",
    "            line = line.replace(' \\n', '')\n",
    "            for word in redundant_sentences:\n",
    "                if word in line:\n",
    "                    line = ''\n",
    "            article_content += line\n",
    "        articles_list.append(article_content)\n",
    "articles_dict = {'article_text': articles_list}\n",
    "df = pd.DataFrame.from_dict(articles_dict)"
   ]
  },
  {
   "cell_type": "code",
   "execution_count": 76,
   "metadata": {},
   "outputs": [],
   "source": [
    "sentences = []\n",
    "for s in df['article_text']:\n",
    "  sentences.append(nltk.sent_tokenize(s))\n",
    "\n",
    "sentences = [y for x in sentences for y in x] # flatten list"
   ]
  },
  {
   "cell_type": "code",
   "execution_count": 68,
   "metadata": {},
   "outputs": [
    {
     "data": {
      "text/plain": [
       "['6. eSportsThe Rise of theProfessional Gamers\\n\\neSports (alsoknown as electronic sportsor professional video gaming) is aform ofcompetition using videogames.',\n",
       " 'Most commonly, eSports take the formoforganized, multiplayer videogamecompetitionsbetween professional players.Similar to traditional sporting events liketheFIFAWorld Cup, sports fansgettogether to watch their favorite professional teams competewhile several millionsalso tune into watcha livestreamor highlightsof theevent.These video gametournamentscanbe playedacrossmany devices including PCs, consoles, andtablets, though PCs arepredominantly usedin tournamentsgiven their computingpower and speed.',\n",
       " 'Many genres of gamesexist that can beplayed duringthesetournamentsincluding (1)First Person Shooter Games suchas Halo 2,(2)Multiplayer Online BattleArena (MOBA) gamessuch as Dota 2 and League ofLegends,(3)Strategy Gamessuch as Starcraft,(4)FightingGames,(5)SportsGames,and(5) Racing Games.',\n",
       " 'The newest genreof eSports isSurvivor Gameslike Fortnite Battle Royale andPlayerUnknowns Battlegrounds (PUBG).',\n",
       " 'Figure 20.']"
      ]
     },
     "execution_count": 68,
     "metadata": {},
     "output_type": "execute_result"
    }
   ],
   "source": [
    "sentences[:5]"
   ]
  },
  {
   "cell_type": "code",
   "execution_count": 46,
   "metadata": {},
   "outputs": [],
   "source": [
    "# Extract word vectors\n",
    "word_embeddings = {}\n",
    "f = open('./gloves.6B/glove.6B.100d.txt', encoding='utf-8')\n",
    "for line in f:\n",
    "    values = line.split()\n",
    "    word = values[0]\n",
    "    coefs = np.asarray(values[1:], dtype='float32')\n",
    "    word_embeddings[word] = coefs\n",
    "f.close()"
   ]
  },
  {
   "cell_type": "code",
   "execution_count": 77,
   "metadata": {},
   "outputs": [],
   "source": [
    "# remove punctuations, numbers and special characters\n",
    "clean_sentences = pd.Series(sentences).str.replace(\"[^a-zA-Z]\", \" \")\n",
    "\n",
    "# make alphabets lowercase\n",
    "clean_sentences = [s.lower() for s in clean_sentences]"
   ]
  },
  {
   "cell_type": "code",
   "execution_count": 78,
   "metadata": {},
   "outputs": [],
   "source": [
    "#nltk.download('stopwords')\n",
    "from nltk.corpus import stopwords\n",
    "stop_words = stopwords.words('english')\n",
    "\n",
    "# function to remove stopwords\n",
    "def remove_stopwords(sen):\n",
    "    sen_new = \" \".join([i for i in sen if i not in stop_words])\n",
    "    return sen_new\n",
    "\n",
    "# remove stopwords from the sentences\n",
    "clean_sentences = [remove_stopwords(r.split()) for r in clean_sentences]\n",
    "\n",
    "sentence_vectors = []\n",
    "for i in clean_sentences:\n",
    "  if len(i) != 0:\n",
    "    v = sum([word_embeddings.get(w, np.zeros((100,))) for w in i.split()])/(len(i.split())+0.001)\n",
    "  else:\n",
    "    v = np.zeros((100,))\n",
    "  sentence_vectors.append(v)"
   ]
  },
  {
   "cell_type": "code",
   "execution_count": 79,
   "metadata": {},
   "outputs": [],
   "source": [
    "# similarity matrix\n",
    "sim_mat = np.zeros([len(sentences), len(sentences)])"
   ]
  },
  {
   "cell_type": "code",
   "execution_count": 80,
   "metadata": {
    "collapsed": true
   },
   "outputs": [],
   "source": [
    "for i in range(len(sentences)):\n",
    "  for j in range(len(sentences)):\n",
    "    if i != j:\n",
    "      sim_mat[i][j] = cosine_similarity(sentence_vectors[i].reshape(1,100), sentence_vectors[j].reshape(1,100))[0,0]"
   ]
  },
  {
   "cell_type": "code",
   "execution_count": 81,
   "metadata": {},
   "outputs": [],
   "source": [
    "nx_graph = nx.from_numpy_matrix(sim_mat)\n",
    "#scores = nx.pagerank(G=nx_graph, alpha=0.85, personalization=None, max_iter=200, tol=1e-08, nstart=None, weight='weight')\n",
    "scores = nx.pagerank_numpy(nx_graph, alpha=0.85, personalization=None, weight='weight', dangling=None)\n",
    "ranked_sentences = sorted(((scores[i],s) for i,s in enumerate(sentences)), reverse=True)"
   ]
  },
  {
   "cell_type": "code",
   "execution_count": 82,
   "metadata": {},
   "outputs": [
    {
     "name": "stdout",
     "output_type": "stream",
     "text": [
      "Blue means that the language has been added in the past year.\n",
      "Nature Medicine 2016).\n",
      "21 Gartner Inc.\n",
      "Who Gets Displaced?\n",
      "Solid electrolytes were developed in the1970s, but insufficient ionic conductivity limited their application.\n",
      "2018\n",
      "\n",
      "\f",
      "\n",
      "August 2018 Citi GPS: Global Perspectives & Solutions Citi GPS: Global Perspectives & Solutions\n",
      "43\n",
      "3.\n",
      "Right now there is a trade-off between(limiting output and volume degradation) controlling output degradation over time and improving energy density.Lowering costs Batteries currently account for about one-third of the total EV price.\n",
      "Nature.\n",
      "How Close to Reality?\n",
      "We dont view it this way.\n"
     ]
    }
   ],
   "source": [
    "# Extract top 10 sentences as the summary\n",
    "for i in range(10):\n",
    "    print(ranked_sentences[i][1])"
   ]
  },
  {
   "cell_type": "code",
   "execution_count": null,
   "metadata": {
    "collapsed": true
   },
   "outputs": [],
   "source": []
  }
 ],
 "metadata": {
  "kernelspec": {
   "display_name": "Python 3",
   "language": "python",
   "name": "python3"
  },
  "language_info": {
   "codemirror_mode": {
    "name": "ipython",
    "version": 3
   },
   "file_extension": ".py",
   "mimetype": "text/x-python",
   "name": "python",
   "nbconvert_exporter": "python",
   "pygments_lexer": "ipython3",
   "version": "3.6.4"
  }
 },
 "nbformat": 4,
 "nbformat_minor": 2
}
