{
 "cells": [
  {
   "cell_type": "code",
   "execution_count": 1,
   "metadata": {},
   "outputs": [],
   "source": [
    "import numpy as np\n",
    "import pandas as pd\n",
    "import nltk\n",
    "#nltk.download('punkt') # one time execution\n",
    "import re\n",
    "import glob\n",
    "from sklearn.metrics.pairwise import cosine_similarity\n",
    "import networkx as nx\n",
    "import codecs"
   ]
  },
  {
   "cell_type": "code",
   "execution_count": 9,
   "metadata": {},
   "outputs": [
    {
     "data": {
      "text/plain": [
       "'\\r\\nInnovating in an Evolving \\r\\nWorld: \\r\\nSlow Change \\r\\nwith \\r\\nLong-Term Impact \\r\\n\\r\\nHumans are hard-wired to respond to instantaneous \\r\\nchange: Our fight or flight \\r\\nresponse evolved to make snap decisions based on \\r\\nimmediate danger. It is not in \\r\\nour nature to identify and react to challenges that arise slowly, even those with great \\r\\nlong-term \\r\\nimpact on \\r\\nour lives. \\r\\n\\r\\n\\r\\nBusinesses face a \\r\\nsimilar problem when dealing with \\r\\nslow change \\r\\nin \\r\\ntheir \\r\\nindustries. Large-scale societal, economic, and technological trends that emerge \\r\\ngradually and continuously over time can be \\r\\nall too easily \\r\\noverlooked. \\r\\nThat is \\r\\nbecause \\r\\nslow change \\r\\noften occurs outside \\r\\nof an organizations line-of-sight and \\r\\ncan \\r\\narise from the merger of many disparate \\r\\ndevelopments, each of which may be \\r\\nlost in the day-to-day \\r\\nnoise. \\r\\n\\r\\n\\r\\nEven the \\r\\nmost forward-thinking companies can \\r\\nmiss \\r\\nslow change \\r\\noccurring around \\r\\nthem: \\r\\nIn 2007, Microsoft CEO Steve Ballmer said, There \\r\\nis \\r\\nno chance the iPhone \\r\\nis going to \\r\\nget significant market share.1 By neglecting \\r\\nsteady, continuous \\r\\nadvancements \\r\\nin \\r\\ncomputing power and mobile technology, Microsoft missed the \\r\\nsmartphone phenomenon \\r\\nand \\r\\nsaw its market capitalization \\r\\nfall from $642 \\r\\nbillion in \\r\\n\\r\\n2,3\\r\\n\\r\\n2000 to $270 billion in \\r\\n2014.\\r\\n\\r\\nIn a time when the \\r\\naverage \\r\\ncompany lifespan on \\r\\nthe S&P 500 has dropped from 61 \\r\\nyears to \\r\\n18 years, spotting \\r\\nslow change is \\r\\ncritical for long-term stability and growth.4 \\r\\nAt Citi, we track \\r\\nslow change \\r\\nby asking which \\r\\ntrends are \\r\\naffecting our businesses \\r\\nand \\r\\nclients in ways that are \\r\\nboth accelerating \\r\\nand \\r\\nirreversible. The results are \\r\\nevident in exponentially-improved systems \\r\\nthat reduce friction or shift society in \\r\\nsuch a way that returning to \\r\\nthe \\r\\nold practices seems inconceivable. \\r\\n\\r\\nBy seeking \\r\\nout such patterns in our work at Citi, we have identified three types of \\r\\nchange that often \\r\\ncause \\r\\nthe \\r\\nbiggest impact: \\r\\n(1) \\r\\nBehavioral \\r\\nchanges, \\r\\n(2) \\r\\nTechnological changes, \\r\\nand \\r\\n(3) Industry or sector changes. \\r\\n\\r\\n\\r\\nThe most profound transformations incorporate at least one \\r\\nof these \\r\\nchanges, but \\r\\nmany \\r\\noften \\r\\ninclude \\r\\nmore. Such is \\r\\nthe \\r\\ncase with three trends \\r\\nwe are currently \\r\\nexploring: (1) changing \\r\\nsocial \\r\\nstructures, \\r\\n(2) the \\r\\nchanging nature of transactions, \\r\\nand (3) the \\r\\nchanging nature of industries. '"
      ]
     },
     "execution_count": 9,
     "metadata": {},
     "output_type": "execute_result"
    }
   ],
   "source": [
    "path = 'Disruptive Innovation Text\\\\1- Innovating in an Evolving World.txt' \n",
    "files = glob.glob(path)\n",
    "# iterate over the list getting each file \n",
    "redundant_sentences = ['figure', 'Figure', 'Citigroup', 'Source', 'source']\n",
    "articles_list = []\n",
    "for fle in files:\n",
    "    with codecs.open(fle, \"r\",encoding='utf-8', errors='ignore') as f:\n",
    "    #with open(fle, 'rb') as f:\n",
    "        article_content = ''\n",
    "        for line in f:\n",
    "            #line = line.replace('\\r', '')\n",
    "            #line = line.replace(' \\n', '')\n",
    "            for word in redundant_sentences:\n",
    "                if word in line:\n",
    "                    line = ''\n",
    "            article_content += line\n",
    "        articles_list.append(article_content)\n",
    "articles_dict = {'article_text': articles_list}\n",
    "df = pd.DataFrame.from_dict(articles_dict)"
   ]
  },
  {
   "cell_type": "code",
   "execution_count": 76,
   "metadata": {},
   "outputs": [],
   "source": [
    "sentences = []\n",
    "for s in df['article_text']:\n",
    "  sentences.append(nltk.sent_tokenize(s))\n",
    "\n",
    "sentences = [y for x in sentences for y in x] # flatten list"
   ]
  },
  {
   "cell_type": "code",
   "execution_count": 68,
   "metadata": {},
   "outputs": [
    {
     "data": {
      "text/plain": [
       "['6. eSportsThe Rise of theProfessional Gamers\\n\\neSports (alsoknown as electronic sportsor professional video gaming) is aform ofcompetition using videogames.',\n",
       " 'Most commonly, eSports take the formoforganized, multiplayer videogamecompetitionsbetween professional players.Similar to traditional sporting events liketheFIFAWorld Cup, sports fansgettogether to watch their favorite professional teams competewhile several millionsalso tune into watcha livestreamor highlightsof theevent.These video gametournamentscanbe playedacrossmany devices including PCs, consoles, andtablets, though PCs arepredominantly usedin tournamentsgiven their computingpower and speed.',\n",
       " 'Many genres of gamesexist that can beplayed duringthesetournamentsincluding (1)First Person Shooter Games suchas Halo 2,(2)Multiplayer Online BattleArena (MOBA) gamessuch as Dota 2 and League ofLegends,(3)Strategy Gamessuch as Starcraft,(4)FightingGames,(5)SportsGames,and(5) Racing Games.',\n",
       " 'The newest genreof eSports isSurvivor Gameslike Fortnite Battle Royale andPlayerUnknowns Battlegrounds (PUBG).',\n",
       " 'Figure 20.']"
      ]
     },
     "execution_count": 68,
     "metadata": {},
     "output_type": "execute_result"
    }
   ],
   "source": [
    "sentences[:5]"
   ]
  },
  {
   "cell_type": "code",
   "execution_count": 46,
   "metadata": {},
   "outputs": [],
   "source": [
    "# Extract word vectors\n",
    "word_embeddings = {}\n",
    "f = open('./gloves.6B/glove.6B.100d.txt', encoding='utf-8')\n",
    "for line in f:\n",
    "    values = line.split()\n",
    "    word = values[0]\n",
    "    coefs = np.asarray(values[1:], dtype='float32')\n",
    "    word_embeddings[word] = coefs\n",
    "f.close()"
   ]
  },
  {
   "cell_type": "code",
   "execution_count": 77,
   "metadata": {},
   "outputs": [],
   "source": [
    "# remove punctuations, numbers and special characters\n",
    "clean_sentences = pd.Series(sentences).str.replace(\"[^a-zA-Z]\", \" \")\n",
    "\n",
    "# make alphabets lowercase\n",
    "clean_sentences = [s.lower() for s in clean_sentences]"
   ]
  },
  {
   "cell_type": "code",
   "execution_count": 78,
   "metadata": {},
   "outputs": [],
   "source": [
    "#nltk.download('stopwords')\n",
    "from nltk.corpus import stopwords\n",
    "stop_words = stopwords.words('english')\n",
    "\n",
    "# function to remove stopwords\n",
    "def remove_stopwords(sen):\n",
    "    sen_new = \" \".join([i for i in sen if i not in stop_words])\n",
    "    return sen_new\n",
    "\n",
    "# remove stopwords from the sentences\n",
    "clean_sentences = [remove_stopwords(r.split()) for r in clean_sentences]\n",
    "\n",
    "sentence_vectors = []\n",
    "for i in clean_sentences:\n",
    "  if len(i) != 0:\n",
    "    v = sum([word_embeddings.get(w, np.zeros((100,))) for w in i.split()])/(len(i.split())+0.001)\n",
    "  else:\n",
    "    v = np.zeros((100,))\n",
    "  sentence_vectors.append(v)"
   ]
  },
  {
   "cell_type": "code",
   "execution_count": 79,
   "metadata": {},
   "outputs": [],
   "source": [
    "# similarity matrix\n",
    "sim_mat = np.zeros([len(sentences), len(sentences)])"
   ]
  },
  {
   "cell_type": "code",
   "execution_count": 80,
   "metadata": {
    "collapsed": true
   },
   "outputs": [],
   "source": [
    "for i in range(len(sentences)):\n",
    "  for j in range(len(sentences)):\n",
    "    if i != j:\n",
    "      sim_mat[i][j] = cosine_similarity(sentence_vectors[i].reshape(1,100), sentence_vectors[j].reshape(1,100))[0,0]"
   ]
  },
  {
   "cell_type": "code",
   "execution_count": 81,
   "metadata": {},
   "outputs": [],
   "source": [
    "nx_graph = nx.from_numpy_matrix(sim_mat)\n",
    "#scores = nx.pagerank(G=nx_graph, alpha=0.85, personalization=None, max_iter=200, tol=1e-08, nstart=None, weight='weight')\n",
    "scores = nx.pagerank_numpy(nx_graph, alpha=0.85, personalization=None, weight='weight', dangling=None)\n",
    "ranked_sentences = sorted(((scores[i],s) for i,s in enumerate(sentences)), reverse=True)"
   ]
  },
  {
   "cell_type": "code",
   "execution_count": 82,
   "metadata": {},
   "outputs": [
    {
     "name": "stdout",
     "output_type": "stream",
     "text": [
      "Blue means that the language has been added in the past year.\n",
      "Nature Medicine 2016).\n",
      "21 Gartner Inc.\n",
      "Who Gets Displaced?\n",
      "Solid electrolytes were developed in the1970s, but insufficient ionic conductivity limited their application.\n",
      "2018\n",
      "\n",
      "\f",
      "\n",
      "August 2018 Citi GPS: Global Perspectives & Solutions Citi GPS: Global Perspectives & Solutions\n",
      "43\n",
      "3.\n",
      "Right now there is a trade-off between(limiting output and volume degradation) controlling output degradation over time and improving energy density.Lowering costs Batteries currently account for about one-third of the total EV price.\n",
      "Nature.\n",
      "How Close to Reality?\n",
      "We dont view it this way.\n"
     ]
    }
   ],
   "source": [
    "# Extract top 10 sentences as the summary\n",
    "for i in range(10):\n",
    "    print(ranked_sentences[i][1])"
   ]
  },
  {
   "cell_type": "code",
   "execution_count": null,
   "metadata": {
    "collapsed": true
   },
   "outputs": [],
   "source": []
  }
 ],
 "metadata": {
  "kernelspec": {
   "display_name": "Python 3",
   "language": "python",
   "name": "python3"
  },
  "language_info": {
   "codemirror_mode": {
    "name": "ipython",
    "version": 3
   },
   "file_extension": ".py",
   "mimetype": "text/x-python",
   "name": "python",
   "nbconvert_exporter": "python",
   "pygments_lexer": "ipython3",
   "version": "3.6.4"
  }
 },
 "nbformat": 4,
 "nbformat_minor": 2
}
