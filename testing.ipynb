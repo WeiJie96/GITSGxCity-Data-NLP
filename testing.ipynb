{
 "cells": [
  {
   "cell_type": "code",
   "execution_count": 7,
   "metadata": {},
   "outputs": [],
   "source": [
    "from nltk.corpus import stopwords\n",
    "from nltk.tokenize import word_tokenize, sent_tokenize\n",
    "from nltk.stem.snowball import SnowballStemmer\n",
    "import functools\n",
    "import os\n",
    "import re\n",
    "import string\n",
    "from gensim.summarization import keywords"
   ]
  },
  {
   "cell_type": "code",
   "execution_count": 8,
   "metadata": {},
   "outputs": [],
   "source": [
    "STOPWORDS = set(stopwords.words(\"english\"))\n",
    "STEMMER = SnowballStemmer(\"english\")"
   ]
  },
  {
   "cell_type": "code",
   "execution_count": 9,
   "metadata": {},
   "outputs": [],
   "source": [
    "#pre-con: txtfile is string of textfile directory name.\n",
    "#post-con: single string of raw text.\n",
    "def read_txt(txtfile):\n",
    "    with open(txtfile, 'r') as myfile:\n",
    "        text=myfile.read()\n",
    "    myfile.close()\n",
    "    return text"
   ]
  },
  {
   "cell_type": "code",
   "execution_count": 10,
   "metadata": {},
   "outputs": [],
   "source": [
    "txt1 = read_txt(\"Disruptive Innovation Text\\\\1- Innovating in an Evolving World.txt\")"
   ]
  },
  {
   "cell_type": "code",
   "execution_count": 11,
   "metadata": {},
   "outputs": [],
   "source": [
    "a = re.sub(\" +\", \" \", re.sub(\"[^a-zA-Z -]\", \"\", txt1.replace(\"\\n\",\" \")).strip())"
   ]
  },
  {
   "cell_type": "code",
   "execution_count": 12,
   "metadata": {},
   "outputs": [
    {
     "data": {
      "text/plain": [
       "['slow chang',\n",
       " 'impact',\n",
       " 'technolog',\n",
       " 'market',\n",
       " 'compani',\n",
       " 'transform',\n",
       " 'dispar',\n",
       " 'decis',\n",
       " 'busi',\n",
       " 'microsoft',\n",
       " 'steadi',\n",
       " 'continu',\n",
       " 'large societ',\n",
       " 'capit']"
      ]
     },
     "execution_count": 12,
     "metadata": {},
     "output_type": "execute_result"
    }
   ],
   "source": [
    "keywords(functools.reduce(lambda x,y: x+\" \"+y, list(map(lambda x: STEMMER.stem(x),word_tokenize(a))))).split(\"\\n\")"
   ]
  },
  {
   "cell_type": "code",
   "execution_count": 13,
   "metadata": {},
   "outputs": [],
   "source": [
    "def f(x):\n",
    "    return max/2 + x**(1/2)"
   ]
  },
  {
   "cell_type": "code",
   "execution_count": null,
   "metadata": {},
   "outputs": [],
   "source": []
  }
 ],
 "metadata": {
  "kernelspec": {
   "display_name": "Python 3",
   "language": "python",
   "name": "python3"
  },
  "language_info": {
   "codemirror_mode": {
    "name": "ipython",
    "version": 3
   },
   "file_extension": ".py",
   "mimetype": "text/x-python",
   "name": "python",
   "nbconvert_exporter": "python",
   "pygments_lexer": "ipython3",
   "version": "3.7.0"
  }
 },
 "nbformat": 4,
 "nbformat_minor": 2
}
