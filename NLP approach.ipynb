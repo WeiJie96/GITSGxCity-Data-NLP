{
 "cells": [
  {
   "cell_type": "code",
   "execution_count": null,
   "metadata": {},
   "outputs": [],
   "source": [
    "#only need to do once\n",
    "import nltk\n",
    "nltk.download('stopwords')\n",
    "nltk.download('punkt')"
   ]
  },
  {
   "cell_type": "code",
   "execution_count": 1,
   "metadata": {},
   "outputs": [],
   "source": [
    "from nltk.corpus import stopwords\n",
    "from nltk.tokenize import word_tokenize, sent_tokenize\n",
    "from nltk.stem.snowball import SnowballStemmer\n",
    "import functools\n",
    "import os\n",
    "\n",
    "#global variable\n",
    "STOPWORDS = set(stopwords.words(\"english\"))\n",
    "STEMMER = SnowballStemmer(\"english\")"
   ]
  },
  {
   "cell_type": "code",
   "execution_count": 2,
   "metadata": {},
   "outputs": [],
   "source": [
    "#pre-con: txtfile is string of textfile directory name.\n",
    "#post-con: single string of raw text.\n",
    "def read_txt(txtfile):\n",
    "    with open(txtfile, 'r') as myfile:\n",
    "        text=myfile.read()\n",
    "    myfile.close()\n",
    "    return text"
   ]
  },
  {
   "cell_type": "code",
   "execution_count": 8,
   "metadata": {},
   "outputs": [],
   "source": [
    "#pre-con: txt is a single string of raw text with \\n removed.\n",
    "#post-con: returns a dictionary where each key is a stemmed word,\n",
    "#          value is the total number of occurences of that particular word.\n",
    "\n",
    "\n",
    "#OUR CURRENT SCORING IS BASED ON FREQUENCY OF WORDS BUT CAN BE CHANGED!\n",
    "def get_score_table(txt):\n",
    "    words = word_tokenize(txt) #list of strings where each string is a word.\n",
    "    score_table = dict()\n",
    "    \n",
    "    for word in words:\n",
    "        word = STEMMER.stem(word)\n",
    "        if word in STOPWORDS:\n",
    "            continue\n",
    "        if word in score_table:\n",
    "            score_table[word] += 1\n",
    "        else:\n",
    "            score_table[word] = 1\n",
    "    \n",
    "    return score_table"
   ]
  },
  {
   "cell_type": "code",
   "execution_count": 9,
   "metadata": {},
   "outputs": [],
   "source": [
    "#pre-con: txt is a single string of raw text with \\n removed.\n",
    "#post-con: list of tuples, each inner tuple contains 3 values: 1) the sentence,\n",
    "#          2) index of sentence (based on the order they appeared in the text), 3) score of sentence\n",
    "def first_alg(txt):\n",
    "    score_table = get_score_table(txt)\n",
    "    sentences = sent_tokenize(txt) #list of strings where each string is a sentence.\n",
    "    sentence_score = dict()\n",
    "    \n",
    "    for i in range(len(sentences)):\n",
    "        sentence = sentences[i]\n",
    "        words_in_sentence = word_tokenize(sentence)\n",
    "        for word in words_in_sentence:\n",
    "            if STEMMER.stem(word) in score_table: #we only consider words which appear in score_table.\n",
    "                score_of_word = score_table[STEMMER.stem(word)]\n",
    "                if sentence in sentence_score:\n",
    "                    sentence_score[sentence][1] += score_of_word\n",
    "                else:\n",
    "                    sentence_score[sentence] = [i, score_of_word]\n",
    "        \n",
    "    for (key,value) in sentence_score.items(): #normalize sentence scores\n",
    "        sentence_score[key][1] /= len(key)\n",
    "        \n",
    "    return list(map(lambda x: (x[1][0], x[0], x[1][1]), list(sentence_score.items())))"
   ]
  },
  {
   "cell_type": "code",
   "execution_count": 10,
   "metadata": {},
   "outputs": [],
   "source": [
    "#pre-con: alg_output is a list of tuples, each inner tuple contains 3 values: 1) the sentence,\n",
    "#          2) index of sentence (based on the order they appeared in the text), 3) score of sentence\n",
    "#post-con: the final text which satisfies the condition of less than 500 characters.\n",
    "\n",
    "def extract_from_alg_output(alg_output):\n",
    "    alg_output_sorted = sorted(alg_output, key = lambda x: -x[2])\n",
    "    \n",
    "    extracted_alg_output = list()\n",
    "    character_count = 0\n",
    "    for elem in alg_output_sorted:\n",
    "        if character_count + len(elem[1]) > 500:\n",
    "            break\n",
    "        else:\n",
    "            extracted_alg_output.append(elem)\n",
    "            character_count += len(elem[1])\n",
    "\n",
    "    final_text = functools.reduce(lambda x,y : x+y, map(lambda x: x[1], sorted(extracted_alg_output)))\n",
    "    \n",
    "    return final_text  "
   ]
  },
  {
   "cell_type": "code",
   "execution_count": 11,
   "metadata": {},
   "outputs": [
    {
     "data": {
      "text/plain": [
       "'Businesses face a similar problem when dealing with ‘slow change’ in their industries.By seeking out such patterns in our work at Citi, we have identified three types of change that often cause the biggest impact: (1) Behavioral changes, (2) Technological changes, and (3) Industry or sector changes.Such is the case with three trends we are currently exploring: (1) changing social structures, (2) the changing nature of transactions, and (3) the changing nature of industries.'"
      ]
     },
     "execution_count": 11,
     "metadata": {},
     "output_type": "execute_result"
    }
   ],
   "source": [
    "txt1 = read_txt(\"Disruptive Innovation Text\\\\1- Innovating in an Evolving World.txt\").replace(\"\\n\", \"\")\n",
    "first_alg_output = first_alg(txt1)\n",
    "output1 = extract_from_alg_output(first_alg_output)\n",
    "\n",
    "output1"
   ]
  },
  {
   "cell_type": "code",
   "execution_count": 12,
   "metadata": {},
   "outputs": [],
   "source": [
    "output_lst = list()\n",
    "\n",
    "for txt in os.listdir(\"Disruptive Innovation Text\"):\n",
    "    output_lst.append(\n",
    "        extract_from_alg_output(first_alg(read_txt(\"Disruptive Innovation Text\\\\\"+txt).replace(\"\\n\", \"\"))))"
   ]
  },
  {
   "cell_type": "code",
   "execution_count": 19,
   "metadata": {},
   "outputs": [
    {
     "name": "stdout",
     "output_type": "stream",
     "text": [
      "1)\n",
      "Businesses face a similar problem when dealing with ‘slow change’ in their industries.By seeking out such patterns in our work at Citi, we have identified three types of change that often cause the biggest impact: (1) Behavioral changes, (2) Technological changes, and (3) Industry or sector changes.Such is the case with three trends we are currently exploring: (1) changing social structures, (2) the changing nature of transactions, and (3) the changing nature of industries.\n",
      "\n",
      "10)\n",
      "9.In May of this year, the peak of the selling season, the median amount of time homes had been listed for sale was 55 days.Most of this democratization, however, has been driven by broker advertising revenue.U.S. Home Sales Continue to Rise, Figure 38.Construction Lagged in Recovery, Figure 39.Approx.Commissions on U.S.For buyers, the vacant state of the home allows for flexible move-in dates.First, a significant amount of capital is required to purchase, carry, repair, and sell homes.\n",
      "\n",
      "11)\n",
      "10.21 Gartner Inc.Worldwide AI Revenue Forecast, 2016–25 (US$m) Figure 43.Figure 45.2.3.Figure 47.Primary Reasons for Using Voice (USA, 2017) Figure 48.Source: Citi Research.Citi Research, Company Websites, List25.Figure 50.Ironically, in supervised leaning, “machines are taught, they don’t learn by themselves,”25 reinforcing our view that ‘Machines Learn, but People Teach.’ 22 Ian Goodfellow, Yoshua Bengio and Aaron Courville, Deep learning, MIT Press, 2016.April 2018.24 Ibid.25 Ibid.\n",
      "\n",
      "12)\n",
      "Home Networking Consumer media devices could be the focal point of the “connected home”, integrating a variety of services and connectivity into one location.Epigenetics Epigenetic approaches in cancer treatment could become a $10bn market by 2025.Thermoplastic Subsea Pipes Switching from traditional steel pipes to new thermoplastic pipes decreases subsea costs by 30-40% and total deepwater costs by 10%, enough to lower the breakeven oil price by $4/bbl.\n",
      "\n",
      "2)\n",
      "1.Figure 1.Figure 3.If BEVs replace ICE vehicles, there would be no need for engines, transmissions, and related parts, but there would be a new need for batteries, inverters, motors, and parts related to these systems.1 and No.\n",
      "\n",
      "3)\n",
      "2.Figure 9.Figure 10.To be more specific, in response to stress, cells can permanently stop dividing (i.e., senescence) and therefore provide a barrier to the development of cancer.Unfortunately, things aren’t so simple, and while the senescent cells should disappear, sometimes they persist in tissues.Figure 11.Figure 12.Nature.2011 and Chang J.Nature Medicine 2016).2016).Figure 13.Figure 14.2008).Figure 15.\n",
      "\n",
      "4)\n",
      "3.2.\n",
      "\n",
      "5)\n",
      "4.Today, big data refers to the use of predictive analytics to extract value from data.Providers, payers, employers, disease-management companies, wellness facilities and programs, personalized-genetic-testing companies, social media, and patients themselves all collect data.Even within organizations themselves, multiple sources of data — such as clinical, financial, and operational data — are kept separated.\n",
      "\n",
      "6)\n",
      "5.Otherwise a clash, also called interference, occurs.2.ways.4.This involves, for example, localWiFi networks, WiMax, soft SIMs, or mobile virtual network operators (MVNOs).None of this, however, has led to major breakthroughs.• Tech industry’s backing: The CBRS ecosystem was originally founded by companies such as Qualcomm, Nokia, Ericsson, Intel, Google, and Federated Wireless.This is, inter alia, due to various uncertainties and barriers.\n",
      "\n",
      "7)\n",
      "Many genres of games exist that can be played during these tournaments including (1) First Person Shooter Games such as Halo 2, (2) Multiplayer Online Battle Arena (MOBA) games such as Dota 2 and League of Legends, (3) Strategy Games such as Starcraft, (4) Fighting Games, (5) Sports Games, and (5) Racing Games.Figure 20.Figure 21.(i.e., the National Football League (NFL), National BasketballAssociation (NBA), and Major League Baseball (MLB)).• Sporting brands (e.g.\n",
      "\n",
      "8)\n",
      "7.Figure 26.• Speed and Capacity.Figure 28.ITU 5G Technology Goals Figure 29.Europe, China, and other major markets will launch from 2020 as spectrum becomes available.Manufacturers can use wireless connectivity to monitor environmental factors, automate changes, track inventory, and adjust accordingly.With 5G, that could be reversed given the lower cost of installing, maintaining, and updating a wireless network.\n",
      "\n",
      "9)\n",
      "8.The Floating Offshore Wind-Turbine Figure 32.Figure 33.The Japanese Wind Power Association (JWPA) estimates around 620GW potential capacity for offshore wind, with 520GW for floating offshore alone.• Intermittency: Wind power, similar to other renewable energy sources, is disadvantaged by intermittency in nature (i.e., wind does not blow all the time).\n",
      "\n"
     ]
    }
   ],
   "source": [
    "lst = [1,10,11,12,2,3,4,5,6,7,8,9]\n",
    "\n",
    "i = 0\n",
    "for txt in output_lst:\n",
    "    print(str(lst[i])+\")\\n\"+txt+\"\\n\")\n",
    "    i+=1"
   ]
  }
 ],
 "metadata": {
  "kernelspec": {
   "display_name": "Python 3",
   "language": "python",
   "name": "python3"
  },
  "language_info": {
   "codemirror_mode": {
    "name": "ipython",
    "version": 3
   },
   "file_extension": ".py",
   "mimetype": "text/x-python",
   "name": "python",
   "nbconvert_exporter": "python",
   "pygments_lexer": "ipython3",
   "version": "3.6.4"
  }
 },
 "nbformat": 4,
 "nbformat_minor": 2
}
